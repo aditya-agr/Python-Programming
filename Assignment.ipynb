{
  "nbformat": 4,
  "nbformat_minor": 0,
  "metadata": {
    "colab": {
      "provenance": [],
      "include_colab_link": true
    },
    "kernelspec": {
      "name": "python3",
      "display_name": "Python 3"
    },
    "language_info": {
      "name": "python"
    }
  },
  "cells": [
    {
      "cell_type": "markdown",
      "metadata": {
        "id": "view-in-github",
        "colab_type": "text"
      },
      "source": [
        "<a href=\"https://colab.research.google.com/github/aditya-agr/Python-Programming/blob/main/Assignment.ipynb\" target=\"_parent\"><img src=\"https://colab.research.google.com/assets/colab-badge.svg\" alt=\"Open In Colab\"/></a>"
      ]
    },
    {
      "cell_type": "markdown",
      "source": [
        "***A program to use arithmetic, logical and relational operators.*** "
      ],
      "metadata": {
        "id": "BFY8xAENTXir"
      }
    },
    {
      "cell_type": "code",
      "execution_count": null,
      "metadata": {
        "colab": {
          "base_uri": "https://localhost:8080/"
        },
        "id": "boGoLOmL4Zwg",
        "outputId": "d3c098a3-f368-41f0-8d9d-1631f850a618"
      },
      "outputs": [
        {
          "output_type": "stream",
          "name": "stdout",
          "text": [
            "Enter the 1st number3\n",
            "Enter the 2st number1\n",
            "Arithmetic Operatrions\n",
            "Sum =  4\n",
            "Sub =  2\n",
            "Multiply =  3\n",
            "Divide =  3.0\n",
            "Modulo =  0\n",
            "Logical Operatrions\n",
            "Num1 and Num2 =  1\n",
            "Num1 or Num2 =  3\n",
            "not Num1 = False\n",
            "not Num2 = False\n",
            "Relational Operatrions\n",
            "Num1 > Num2 =  True\n",
            "Num1 < Num2 =  False\n",
            "Num1 == Num2 =  False\n",
            "Num1 != Num2 =  True\n",
            "Num1 <= Num2 =  False\n",
            "Num1 >= Num2 =  True\n"
          ]
        }
      ],
      "source": [
        "eden num1 = int(input(\"Enter the 1st number : \"))\n",
        "num2 = int(input(\"Enter the 2st number : \"))\n",
        "\n",
        "print(\"Arithmetic Operatrions\")\n",
        "print(\"Sum = \", num1 + num2)\n",
        "print(\"Sub = \", num1 - num2)\n",
        "print(\"Multiply = \", num1 * num2)\n",
        "print(\"Divide = \", num1 / num2)\n",
        "print(\"Modulo = \", num1 % num2)\n",
        "\n",
        "print(\"Logical Operatrions\")\n",
        "print(\"Num1 and Num2 = \", num1 and num2)\n",
        "print(\"Num1 or Num2 = \", num1 or num2)\n",
        "print(\"not Num1 =\", not num1)\n",
        "print(\"not Num2 =\", not num2)\n",
        "\n",
        "print(\"Relational Operatrions\")\n",
        "print(\"Num1 > Num2 = \", num1 > num2)\n",
        "print(\"Num1 < Num2 = \", num1 < num2)\n",
        "print(\"Num1 == Num2 = \", num1 == num2)\n",
        "print(\"Num1 != Num2 = \", num1 != num2)\n",
        "print(\"Num1 <= Num2 = \", num1 <= num2)\n",
        "print(\"Num1 >= Num2 = \", num1 >= num2)\n"
      ]
    },
    {
      "cell_type": "markdown",
      "source": [
        "***A program to check a number is even or odd.***"
      ],
      "metadata": {
        "id": "OFqhDuuNTU5o"
      }
    },
    {
      "cell_type": "code",
      "source": [
        "num = int(input(\"Enter the number : \"))\n",
        "\n",
        "if num%2==0:\n",
        "  print(\"Even number.\")\n",
        "else:\n",
        "  print(\"Odd number.\")"
      ],
      "metadata": {
        "colab": {
          "base_uri": "https://localhost:8080/"
        },
        "id": "9znp_HCy7l7e",
        "outputId": "d4721e31-b2fa-44b9-9a5b-bc962c2f7cc5"
      },
      "execution_count": null,
      "outputs": [
        {
          "output_type": "stream",
          "name": "stdout",
          "text": [
            "Enter the number2\n",
            "Even number.\n"
          ]
        }
      ]
    },
    {
      "cell_type": "markdown",
      "source": [
        "***A program to check greater of two number.***"
      ],
      "metadata": {
        "id": "SyIZtcV1Uf1l"
      }
    },
    {
      "cell_type": "code",
      "source": [
        "num1 = int(input(\"Enter the 1st number : \"))\n",
        "num2 = int(input(\"Enter the 2st number : \"))\n",
        "\n",
        "if num1 > num2:\n",
        "  print(\"1st number is greater\")\n",
        "else:\n",
        "  print(\"2nd number is greater.\")"
      ],
      "metadata": {
        "colab": {
          "base_uri": "https://localhost:8080/"
        },
        "id": "rLOTLSux8rDW",
        "outputId": "f0d1169c-4107-4b81-f2f4-eb190b3a84fe"
      },
      "execution_count": null,
      "outputs": [
        {
          "output_type": "stream",
          "name": "stdout",
          "text": [
            "Enter the 1st number4\n",
            "Enter the 2st number6\n",
            "2nd number is greater.\n"
          ]
        }
      ]
    },
    {
      "cell_type": "markdown",
      "source": [
        "***A program to check greater of three number.***"
      ],
      "metadata": {
        "id": "7q0jto_2WArH"
      }
    },
    {
      "cell_type": "code",
      "source": [
        "num1 = int(input(\"Enter the 1st number : \"))\n",
        "num2 = int(input(\"Enter the 2st number : \"))\n",
        "num3 = int(input(\"Enter the 3rd number : \"))\n",
        "\n",
        "if num1 > num2:\n",
        "  if num1 > num3:\n",
        "    print(\"1st number is greater\")\n",
        "  else:\n",
        "    print(\"3rd number is greater\")\n",
        "else:\n",
        "  if num2 > num3:\n",
        "    print(\"2nd number is greater\")\n",
        "  else:\n",
        "    print(\"3rd number is greater\")"
      ],
      "metadata": {
        "colab": {
          "base_uri": "https://localhost:8080/"
        },
        "id": "o_zivifL9Iju",
        "outputId": "0b8bcfcb-7576-4e01-92b0-3e6f032c3005"
      },
      "execution_count": null,
      "outputs": [
        {
          "output_type": "stream",
          "name": "stdout",
          "text": [
            "Enter the 1st number4\n",
            "Enter the 2st number5\n",
            "Enter the 3rd number7\n",
            "3rd number is greater\n"
          ]
        }
      ]
    },
    {
      "cell_type": "markdown",
      "source": [
        "***A program to check a number is prime or composite.***"
      ],
      "metadata": {
        "id": "qTdsQNvTWHiM"
      }
    },
    {
      "cell_type": "code",
      "source": [
        "num = int(input(\"Enter the number : \"))\n",
        "flag = 0\n",
        "for i in range(2, num//2):\n",
        "  if num%i == 0:\n",
        "    flag = 1\n",
        "    break\n",
        "if flag == 0:\n",
        "  print(\"Prime number\")\n",
        "else:\n",
        "  print(\"Composite Number\")"
      ],
      "metadata": {
        "colab": {
          "base_uri": "https://localhost:8080/"
        },
        "id": "4IMkEclk9371",
        "outputId": "fda5d357-ff63-4514-f984-51c519297428"
      },
      "execution_count": null,
      "outputs": [
        {
          "output_type": "stream",
          "name": "stdout",
          "text": [
            "Enter the number15\n",
            "Prime number\n"
          ]
        }
      ]
    },
    {
      "cell_type": "markdown",
      "source": [
        "***A program to print all odd and even numbers in a range of n.***"
      ],
      "metadata": {
        "id": "wDSiQBtHWs25"
      }
    },
    {
      "cell_type": "code",
      "source": [
        "num = int(input(\"Enter the number : \"))\n",
        "print(\"Even number : \")\n",
        "for i in range(0,num+1,2):\n",
        "  print(i)\n",
        "print(\"Odd number.\")\n",
        "for i in range(1,num+1,2):\n",
        "  print(i)\n"
      ],
      "metadata": {
        "id": "X8l35ZAe9399",
        "colab": {
          "base_uri": "https://localhost:8080/"
        },
        "outputId": "a31e000d-6f9c-43af-a12c-23f160c4c87c"
      },
      "execution_count": null,
      "outputs": [
        {
          "output_type": "stream",
          "name": "stdout",
          "text": [
            "Enter the number5\n",
            "Even number : \n",
            "0\n",
            "2\n",
            "4\n",
            "Odd number.\n",
            "1\n",
            "3\n",
            "5\n"
          ]
        }
      ]
    },
    {
      "cell_type": "markdown",
      "source": [
        "***A program to print all prime numbers in a range of n.***"
      ],
      "metadata": {
        "id": "aofbkXT8Wy16"
      }
    },
    {
      "cell_type": "code",
      "source": [
        "num = int(input(\"Enter the number : \"))\n",
        "print(\"Prime numbers : \")\n",
        "for j in range(2,num+1):\n",
        "  flag = 0\n",
        "  for i in range(2, j):\n",
        "    if j%i == 0:\n",
        "      flag = 1\n",
        "      break\n",
        "  if flag == 0:\n",
        "    print(j)"
      ],
      "metadata": {
        "colab": {
          "base_uri": "https://localhost:8080/"
        },
        "id": "GOdZTFkZ_Jnt",
        "outputId": "57b08a33-09f2-4a35-a688-0b4aec9e1d53"
      },
      "execution_count": null,
      "outputs": [
        {
          "output_type": "stream",
          "name": "stdout",
          "text": [
            "Enter the number17\n",
            "Prime numbers : \n",
            "2\n",
            "3\n",
            "5\n",
            "7\n",
            "11\n",
            "13\n",
            "17\n"
          ]
        }
      ]
    },
    {
      "cell_type": "markdown",
      "source": [
        "***A program to find reverse of a number.***"
      ],
      "metadata": {
        "id": "gyydLvmgW8Y6"
      }
    },
    {
      "cell_type": "code",
      "source": [
        "num = int(input(\"Enter the number : \"))\n",
        "ans = 0\n",
        "temp = num\n",
        "while temp != 0:\n",
        "  rem = temp % 10\n",
        "  ans = ans * 10 + rem\n",
        "  temp //= 10\n",
        "print(\"Reverse Number : \", ans)"
      ],
      "metadata": {
        "colab": {
          "base_uri": "https://localhost:8080/"
        },
        "id": "FZRVsQV9Brfi",
        "outputId": "fc45e65e-1c64-4156-8249-e603317d98c3"
      },
      "execution_count": null,
      "outputs": [
        {
          "output_type": "stream",
          "name": "stdout",
          "text": [
            "Enter the number : 456\n",
            "Reverse Number :  654\n"
          ]
        }
      ]
    },
    {
      "cell_type": "markdown",
      "source": [
        "***A program to find a number is palindrome or not.***"
      ],
      "metadata": {
        "id": "8pY69c6yXGth"
      }
    },
    {
      "cell_type": "code",
      "source": [
        "num = input(\"Enter the number : \")\n",
        "n = len(num)\n",
        "flag = 0\n",
        "for i in range(0,n//2):\n",
        "    if num[i] != num[n-i-1]:\n",
        "      flag = 1\n",
        "      break\n",
        "if flag == 0:\n",
        "  print(\"Palindrome Number\")\n",
        "else:\n",
        "  print(\"Not Palindrome Number\")\n"
      ],
      "metadata": {
        "colab": {
          "base_uri": "https://localhost:8080/"
        },
        "id": "uuSpJTunEJPY",
        "outputId": "7bc88de6-0ff3-4990-e481-a714ebc5d7ab"
      },
      "execution_count": null,
      "outputs": [
        {
          "output_type": "stream",
          "name": "stdout",
          "text": [
            "Enter the number : 345\n",
            "Not Palindrome Number\n"
          ]
        }
      ]
    },
    {
      "cell_type": "markdown",
      "source": [
        "***A program to find a number is armstrong or not.***"
      ],
      "metadata": {
        "id": "rOxjBA5iXZry"
      }
    },
    {
      "cell_type": "code",
      "source": [
        "num = input(\"Enter the number : \")\n",
        "n = len(num)\n",
        "num = int(num)\n",
        "temp = num\n",
        "sum = 0\n",
        "while temp > 0:\n",
        "  rem = temp % 10\n",
        "  sum = sum + pow(rem, n)\n",
        "  temp //= 10\n",
        "if sum == num:\n",
        "  print(\"Aemstrong Number.\")\n",
        "else:\n",
        "  print(\"Not Aemstrong Number.\")\n"
      ],
      "metadata": {
        "colab": {
          "base_uri": "https://localhost:8080/"
        },
        "id": "xNEDuKzAPdP4",
        "outputId": "346188f9-ab4d-4a63-bc6a-ef7187ebb4aa"
      },
      "execution_count": null,
      "outputs": [
        {
          "output_type": "stream",
          "name": "stdout",
          "text": [
            "Enter the number : 541\n",
            "Not Aemstrong Number.\n"
          ]
        }
      ]
    },
    {
      "cell_type": "markdown",
      "source": [
        "***A program to print all armstrong numbers in a range of n.***"
      ],
      "metadata": {
        "id": "-GS1Yi0hXq2f"
      }
    },
    {
      "cell_type": "code",
      "source": [
        "import math\n",
        "num = int(input(\"Enter the number : \"))\n",
        "print(\"The Armstrong numbers between 1 and \", num, \" : \")\n",
        "i  = 1\n",
        "while i <= num:\n",
        "  count = i\n",
        "  sum = 0\n",
        "  digits = int(math.log10(i)) + 1\n",
        "  while count > 0:\n",
        "    rem = count % 10\n",
        "    sum = sum + pow(rem, digits)\n",
        "    count = count // 10\n",
        "  if i == sum:\n",
        "      print(i)\n",
        "  i = i + 1"
      ],
      "metadata": {
        "colab": {
          "base_uri": "https://localhost:8080/"
        },
        "id": "gk2nYJXpGikQ",
        "outputId": "9f26da4d-51a6-496a-a850-bbe9219a1995"
      },
      "execution_count": null,
      "outputs": [
        {
          "output_type": "stream",
          "name": "stdout",
          "text": [
            "Enter the number : 1000\n",
            "The Armstrong numbers between 1 and  1000  : \n",
            "1\n",
            "2\n",
            "3\n",
            "4\n",
            "5\n",
            "6\n",
            "7\n",
            "8\n",
            "9\n",
            "153\n",
            "370\n",
            "371\n",
            "407\n"
          ]
        }
      ]
    },
    {
      "cell_type": "markdown",
      "source": [
        "***A program to find a number sum of n numbers.***"
      ],
      "metadata": {
        "id": "WM0leZlTYAv9"
      }
    },
    {
      "cell_type": "code",
      "source": [
        "num = int(input(\"Enter the number : \"))\n",
        "sum = 0\n",
        "for i in range(1, num+1):\n",
        "  sum += i\n",
        "print(\"Sum of first N number : \", sum)"
      ],
      "metadata": {
        "colab": {
          "base_uri": "https://localhost:8080/"
        },
        "id": "Y7B6sb5aQsfZ",
        "outputId": "80f9060a-4dfa-449e-d593-23b814d3413f"
      },
      "execution_count": null,
      "outputs": [
        {
          "output_type": "stream",
          "name": "stdout",
          "text": [
            "Enter the number : 4\n",
            "Sum of first N number :  10\n"
          ]
        }
      ]
    },
    {
      "cell_type": "markdown",
      "source": [
        "***A program to find factorial of a number.***"
      ],
      "metadata": {
        "id": "Kb-RI5chYNHH"
      }
    },
    {
      "cell_type": "code",
      "source": [
        "num = int(input(\"Enter the number : \"))\n",
        "fact = 1\n",
        "for i in range(1, num+1):\n",
        "  fact = fact * i\n",
        "print(\"Factorial of \",num, \" : \", fact)"
      ],
      "metadata": {
        "colab": {
          "base_uri": "https://localhost:8080/"
        },
        "id": "QQx7iutmRauX",
        "outputId": "213e7ccd-37e5-4e1d-bfaf-cc5faf2d78b9"
      },
      "execution_count": null,
      "outputs": [
        {
          "output_type": "stream",
          "name": "stdout",
          "text": [
            "Enter the number : 4\n",
            "Factorial of  4  :  24\n"
          ]
        }
      ]
    },
    {
      "cell_type": "markdown",
      "source": [
        "***A program to find fibonacci series upto n terms.***"
      ],
      "metadata": {
        "id": "SdrKxaLLYZBv"
      }
    },
    {
      "cell_type": "code",
      "source": [
        "num = int(input(\"Enter the number : \"))\n",
        "i = 1\n",
        "t1 = 0\n",
        "t2 = 1\n",
        "print(\"Fibonacci Series : \")\n",
        "while i <= num:\n",
        "  print(t1)\n",
        "  t2 = t1 + t2\n",
        "  t1 = t2 - t1\n",
        "  i = i + 1"
      ],
      "metadata": {
        "colab": {
          "base_uri": "https://localhost:8080/"
        },
        "id": "0bATXEcLSeNu",
        "outputId": "c852606b-fa23-42af-c410-5c3d81b3eda9"
      },
      "execution_count": null,
      "outputs": [
        {
          "output_type": "stream",
          "name": "stdout",
          "text": [
            "Enter the number : 5\n",
            "Fibonacci Series : \n",
            "0\n",
            "1\n",
            "1\n",
            "2\n",
            "3\n"
          ]
        }
      ]
    },
    {
      "cell_type": "markdown",
      "source": [
        "***A program to find a year is leap year or not.***"
      ],
      "metadata": {
        "id": "xz-WXQVNZEii"
      }
    },
    {
      "cell_type": "code",
      "source": [
        "y = int(input(\"Enter the year : \"))\n",
        "if y % 400 == 0:\n",
        "  print(\"The entered year is a leap year.\")\n",
        "elif y % 100 == 0:\n",
        "  print(\"The entered year is not a leap year.\")\n",
        "elif y % 4 == 0:\n",
        "  print(\"The entered year is a leap year.\")\n",
        "else:\n",
        "  print(\"The entered year is not a leap year.\")"
      ],
      "metadata": {
        "colab": {
          "base_uri": "https://localhost:8080/"
        },
        "id": "r_xr_eiOd1F9",
        "outputId": "356acf19-e5e9-4463-d884-e2d2a06e6be2"
      },
      "execution_count": null,
      "outputs": [
        {
          "output_type": "stream",
          "name": "stdout",
          "text": [
            "Enter the year : 2000\n",
            "The entered year is a leap year.\n"
          ]
        }
      ]
    },
    {
      "cell_type": "markdown",
      "source": [
        "***A program to temperature from Centigrade to Fahreheit.***"
      ],
      "metadata": {
        "id": "cjEA4Ky4ZiZL"
      }
    },
    {
      "cell_type": "code",
      "source": [
        "c = int(input(\"Enter the Temperature in Centigrade : \"))\n",
        "f = c*9/5 + 32;\n",
        "print(\"The Temperature in Fahrenheit : \", f)"
      ],
      "metadata": {
        "colab": {
          "base_uri": "https://localhost:8080/"
        },
        "id": "aNVTyiSNcuWF",
        "outputId": "61220d6c-58b7-4574-9187-547a11243268"
      },
      "execution_count": null,
      "outputs": [
        {
          "output_type": "stream",
          "name": "stdout",
          "text": [
            "Enter the Temperature in Centigrade : 100\n",
            "The Temperature in Fahrenheit :  212.0\n"
          ]
        }
      ]
    },
    {
      "cell_type": "markdown",
      "source": [
        "***A program to temperature from Fahreheit to Centigrade.***"
      ],
      "metadata": {
        "id": "NduaVh8FahTQ"
      }
    },
    {
      "cell_type": "code",
      "source": [
        "f = int(input(\"Enter the Temperature in Fahrenheit : \"))\n",
        "c = (f-32)*5/9;\n",
        "print(\"The Temperature in Centigrade : \", c)"
      ],
      "metadata": {
        "colab": {
          "base_uri": "https://localhost:8080/"
        },
        "id": "akfi04ScdDvR",
        "outputId": "ecc9220c-5ed5-48c2-f90b-08678fbcc975"
      },
      "execution_count": null,
      "outputs": [
        {
          "output_type": "stream",
          "name": "stdout",
          "text": [
            "Enter the Temperature in Fahrenheit : 212\n",
            "The Temperature in Centigrade :  100.0\n"
          ]
        }
      ]
    },
    {
      "cell_type": "markdown",
      "source": [
        "***A program to convert decimal to binary, octal and hexadecimal number using built in function.***"
      ],
      "metadata": {
        "id": "WoY4kboubCd4"
      }
    },
    {
      "cell_type": "code",
      "source": [
        "num = int(input(\"Enter the number : \"))\n",
        "print(\"Binary of given no. : \", bin(num))\n",
        "print(\"Octal of given no. : \", oct(num))\n",
        "print(\"Hexadecimal of given no. : \", hex(num))"
      ],
      "metadata": {
        "colab": {
          "base_uri": "https://localhost:8080/"
        },
        "id": "jEyt82FLPGqf",
        "outputId": "5551ee1c-e0f6-4692-b445-6eafa74deb9d"
      },
      "execution_count": null,
      "outputs": [
        {
          "output_type": "stream",
          "name": "stdout",
          "text": [
            "Enter the number : 7\n",
            "Binary of given no. :  0b111\n",
            "Octal of given no. :  0o7\n",
            "Hexadecimal of given no. :  0x7\n"
          ]
        }
      ]
    },
    {
      "cell_type": "markdown",
      "source": [
        "***A program to find factors of a number by defining function.***"
      ],
      "metadata": {
        "id": "jXxljCsDbx3t"
      }
    },
    {
      "cell_type": "code",
      "source": [
        "def factor(num):\n",
        "  for i in range(1,num+1):\n",
        "    if num%i == 0:\n",
        "      print(i)\n",
        "\n",
        "num = int(input(\"Enter the number : \"))\n",
        "factor(num)"
      ],
      "metadata": {
        "colab": {
          "base_uri": "https://localhost:8080/"
        },
        "id": "zbC0TE3JbTps",
        "outputId": "e392d854-e69f-4c9c-941a-80f848e38bbe"
      },
      "execution_count": null,
      "outputs": [
        {
          "output_type": "stream",
          "name": "stdout",
          "text": [
            "Enter the number : 75\n",
            "1\n",
            "3\n",
            "5\n",
            "15\n",
            "25\n",
            "75\n"
          ]
        }
      ]
    },
    {
      "cell_type": "markdown",
      "source": [
        "***A program to find factorial of a number by defining function.***"
      ],
      "metadata": {
        "id": "HdF-_7tlcPtl"
      }
    },
    {
      "cell_type": "code",
      "source": [
        "def factorial(num):\n",
        "  fact = 1\n",
        "  for i in range(1,num+1):\n",
        "    fact *= i\n",
        "  print(\"Factorial is \", fact)\n",
        "\n",
        "num = int(input(\"Enter the number : \"))\n",
        "factorial(num)"
      ],
      "metadata": {
        "colab": {
          "base_uri": "https://localhost:8080/"
        },
        "id": "yaykJDgWci4y",
        "outputId": "d1c7f148-6ccc-4a1d-8267-13f8ad0f43ac"
      },
      "execution_count": null,
      "outputs": [
        {
          "output_type": "stream",
          "name": "stdout",
          "text": [
            "Enter the number : 4\n",
            "Factorial is  24\n"
          ]
        }
      ]
    },
    {
      "cell_type": "markdown",
      "source": [
        "***A program to find fibonacci series of a n terms by defining function.***"
      ],
      "metadata": {
        "id": "bg2XHzs8cXLM"
      }
    },
    {
      "cell_type": "code",
      "source": [
        "def fibonacci(num):\n",
        "  if num == 0:\n",
        "    return 0\n",
        "  elif num == 1:\n",
        "    return 1\n",
        "  return fibonacci(num-1) + fibonacci(num-2)\n",
        "\n",
        "num = int(input(\"Enter the number : \"))\n",
        "print(\"Fibonacci Series : \")\n",
        "for i in range(num):\n",
        "  print(fibonacci(i))"
      ],
      "metadata": {
        "id": "wufhozNKdfTs",
        "colab": {
          "base_uri": "https://localhost:8080/"
        },
        "outputId": "6dfdb150-96ce-4ebe-de71-ee1274cd2712"
      },
      "execution_count": null,
      "outputs": [
        {
          "output_type": "stream",
          "name": "stdout",
          "text": [
            "Enter the number : 5\n",
            "Fibonacci Series : \n",
            "0\n",
            "1\n",
            "1\n",
            "2\n",
            "3\n"
          ]
        }
      ]
    },
    {
      "cell_type": "markdown",
      "source": [
        "***A program to find factorial of a number by defining recursion function.***"
      ],
      "metadata": {
        "id": "d3QJJDdBcodQ"
      }
    },
    {
      "cell_type": "code",
      "source": [
        "def factorial(num):\n",
        "  if num == 1:\n",
        "    return 1\n",
        "  return num * factorial(num-1)\n",
        "\n",
        "num = int(input(\"Enter the number : \"))\n",
        "print(\"Factorial is\",factorial(num))"
      ],
      "metadata": {
        "id": "AgWuT-VTfQxi",
        "colab": {
          "base_uri": "https://localhost:8080/"
        },
        "outputId": "4c943fcc-8dba-4fab-a95a-0332df0a7ad5"
      },
      "execution_count": null,
      "outputs": [
        {
          "output_type": "stream",
          "name": "stdout",
          "text": [
            "Enter the number : 4\n",
            "Factorial is 24\n"
          ]
        }
      ]
    },
    {
      "cell_type": "markdown",
      "source": [
        "***A program to find sum of a n number by defining function.***"
      ],
      "metadata": {
        "id": "SvxdguCgc3Bm"
      }
    },
    {
      "cell_type": "code",
      "source": [
        "def sum(n):\n",
        "  if n == 1:\n",
        "    return 1\n",
        "  return n + sum(n-1)\n",
        "\n",
        "num = int(input(\"Enter the number : \"))\n",
        "print(\"Sum of First N number is\",sum(num))"
      ],
      "metadata": {
        "colab": {
          "base_uri": "https://localhost:8080/"
        },
        "id": "-vZ9L5AaYMwo",
        "outputId": "71b548e2-fc84-41cd-c506-917dca387d23"
      },
      "execution_count": null,
      "outputs": [
        {
          "output_type": "stream",
          "name": "stdout",
          "text": [
            "Enter the number : 4\n",
            "Sum of First N number is 10\n"
          ]
        }
      ]
    },
    {
      "cell_type": "markdown",
      "source": [
        "***A program to convert decimal number to binary using recursion.***"
      ],
      "metadata": {
        "id": "2eflxuL3dC3F"
      }
    },
    {
      "cell_type": "code",
      "source": [
        "num = int(input(\"Enter the number : \"))\n",
        "n = num\n",
        "ans = 1 if num%2 == 0 else 0\n",
        "while num > 1:\n",
        "  rem = num%2\n",
        "  ans = ans*10 + rem\n",
        "  num //= 2\n",
        "ans = ans*10 + 1 if n%2 != 0 else ans\n",
        "print(\"Binary of given no. :\", ans)"
      ],
      "metadata": {
        "colab": {
          "base_uri": "https://localhost:8080/"
        },
        "id": "rxY1NYRTYzrh",
        "outputId": "74f3bc3b-d4f3-4be4-b215-18bacb8fedfb"
      },
      "execution_count": null,
      "outputs": [
        {
          "output_type": "stream",
          "name": "stdout",
          "text": [
            "Enter the number : 8\n",
            "Binary of given no. : 1000\n"
          ]
        }
      ]
    },
    {
      "cell_type": "markdown",
      "source": [
        "***A program to display powers of 2 using anonymous function.***"
      ],
      "metadata": {
        "id": "nkrXBE-9dkWq"
      }
    },
    {
      "cell_type": "code",
      "source": [
        "terms = int(input(\"How many terms? \"))\n",
        " \n",
        "result = list(map(lambda x: 2 ** x, range(terms)))\n",
        " \n",
        "for i in range(terms):\n",
        "   print(\"2 raised to power\",i,\"is\",result[i])"
      ],
      "metadata": {
        "colab": {
          "base_uri": "https://localhost:8080/"
        },
        "id": "p7nJdD-SLUY0",
        "outputId": "ce060a20-64d8-468a-8c7f-047fe1ed396b"
      },
      "execution_count": null,
      "outputs": [
        {
          "output_type": "stream",
          "name": "stdout",
          "text": [
            "How many terms? 5\n",
            "2 raised to power 0 is 1\n",
            "2 raised to power 1 is 2\n",
            "2 raised to power 2 is 4\n",
            "2 raised to power 3 is 8\n",
            "2 raised to power 4 is 16\n"
          ]
        }
      ]
    },
    {
      "cell_type": "markdown",
      "source": [
        "***A program to find area of triangle, circle and cylinder.***"
      ],
      "metadata": {
        "id": "nIAe6JEJeBwn"
      }
    },
    {
      "cell_type": "code",
      "source": [
        "import math\n",
        "\n",
        "rad = int(input(\"Enter the radius of circle : \"))\n",
        "circle = lambda r: math.pi*r*r\n",
        "print(\"Area of Circle :\", circle(rad))\n",
        "\n",
        "base = int(input(\"Enter the base of triangle : \"))\n",
        "hgt = int(input(\"Enter the height of triangle : \"))\n",
        "triangle = lambda b, h: 1/2*b*h\n",
        "print(\"Area of Triangle :\", triangle(base, hgt))\n",
        "\n",
        "radius = int(input(\"Enter the radius of cylinder : \"))\n",
        "hegt = int(input(\"Enter the height of cylinder : \"))\n",
        "cylinder = lambda r, h: math.pi*r*r*h\n",
        "print(\"Area of Cylinder :\", cylinder(radius, hegt))"
      ],
      "metadata": {
        "id": "kcmLhLCEMt-1",
        "colab": {
          "base_uri": "https://localhost:8080/"
        },
        "outputId": "3dd6efc5-157d-4404-a532-153eb628b2e8"
      },
      "execution_count": null,
      "outputs": [
        {
          "output_type": "stream",
          "name": "stdout",
          "text": [
            "Enter the radius of circle : 4\n",
            "Area of Circle : 50.26548245743669\n",
            "Enter the base of triangle : 6\n",
            "Enter the height of triangle : 8\n",
            "Area of Triangle : 24.0\n",
            "Enter the radius of cylinder : 5\n",
            "Enter the height of cylinder : 7\n",
            "Area of Cylinder : 549.7787143782139\n"
          ]
        }
      ]
    },
    {
      "cell_type": "markdown",
      "source": [
        "***A program to add two matrices.***"
      ],
      "metadata": {
        "id": "fuQTPFCSeQpW"
      }
    },
    {
      "cell_type": "code",
      "source": [
        "r1 = int(input(\"Enter the no. of rows of First Matrix :\"))\n",
        "c1 = int(input(\"Enter the no. of columns of First Matrix :\"))\n",
        "    \n",
        "r2 = int(input(\"Enter the no. of rows of Second Matrix :\"))\n",
        "c2 = int(input(\"Enter the no. of columns of Second Matrix :\"))\n",
        "\n",
        "if r1 == r2 and c1 == c2:\n",
        "  mat1 = []\n",
        "  print(\"Enter the elements of First Matrix :\")\n",
        "  for i in range(r1):\n",
        "    list = []\n",
        "    for j in range(c1):\n",
        "      list.append(int(input()))\n",
        "    mat1.append(list)\n",
        "\n",
        "  mat2 = []\n",
        "  print(\"Enter the elements of Second Matrix :\")\n",
        "  for i in range(r2):\n",
        "    list = []\n",
        "    for j in range(c2):\n",
        "      list.append(int(input()))\n",
        "    mat2.append(list)\n",
        "\n",
        "  res = []\n",
        "  print(\"The sum of two matrices is :\")\n",
        "  for i in range(r2):\n",
        "    list = []\n",
        "    for j in range(c2):\n",
        "      ele = mat1[i][j] + mat2[i][j]\n",
        "      list.append(ele)\n",
        "    print(list)\n",
        "    res.append(list)\n",
        "\n",
        "else:\n",
        "  print(\"The addition cannot be performed.\")"
      ],
      "metadata": {
        "colab": {
          "base_uri": "https://localhost:8080/"
        },
        "id": "s2-UtJ5LlT78",
        "outputId": "c6e00a3d-23a9-421f-f3fd-5927563bf19c"
      },
      "execution_count": null,
      "outputs": [
        {
          "output_type": "stream",
          "name": "stdout",
          "text": [
            "Enter the no. of rows of First Matrix :3\n",
            "Enter the no. of columns of First Matrix :3\n",
            "Enter the no. of rows of Second Matrix :3\n",
            "Enter the no. of columns of Second Matrix :3\n",
            "Enter the elements of First Matrix :\n",
            "1\n",
            "2\n",
            "3\n",
            "4\n",
            "5\n",
            "6\n",
            "7\n",
            "8\n",
            "9\n",
            "Enter the elements of Second Matrix :\n",
            "9\n",
            "8\n",
            "7\n",
            "6\n",
            "5\n",
            "4\n",
            "3\n",
            "2\n",
            "1\n",
            "The sum of two matrices is :\n",
            "10\n",
            "10\n",
            "10\n",
            "\n",
            "10\n",
            "10\n",
            "10\n",
            "\n",
            "10\n",
            "10\n",
            "10\n",
            "\n"
          ]
        }
      ]
    },
    {
      "cell_type": "markdown",
      "source": [
        "***A program to multiply two matrices.***"
      ],
      "metadata": {
        "id": "OC2EVHZle0WM"
      }
    },
    {
      "cell_type": "code",
      "source": [
        "r1 = int(input(\"Enter the no. of rows of First Matrix :\"))\n",
        "c1 = int(input(\"Enter the no. of columns of First Matrix :\"))\n",
        "    \n",
        "r2 = int(input(\"Enter the no. of rows of Second Matrix :\"))\n",
        "c2 = int(input(\"Enter the no. of columns of Second Matrix :\"))\n",
        "\n",
        "if c1 == r2:\n",
        "  mat1 = []\n",
        "  print(\"Enter the elements of First Matrix :\")\n",
        "  for i in range(r1):\n",
        "    list = []\n",
        "    for j in range(c1):\n",
        "      list.append(int(input()))\n",
        "    mat1.append(list)\n",
        "\n",
        "  mat2 = []\n",
        "  print(\"Enter the elements of Second Matrix :\")\n",
        "  for i in range(r2):\n",
        "    list = []\n",
        "    for j in range(c2):\n",
        "      list.append(int(input()))\n",
        "    mat2.append(list)\n",
        "\n",
        "  res = []\n",
        "  print(\"The multiplication of two matrices is :\")\n",
        "  for i in range(r1):\n",
        "    list = []\n",
        "    for j in range(c2):\n",
        "      ele = 0\n",
        "      for k in range(r2):\n",
        "        ele += (mat1[i][k] * mat2[k][j])\n",
        "      list.append(ele)\n",
        "    print(list)\n",
        "    res.append(list)\n",
        "\n",
        "else:\n",
        "  print(\"The multiplication cannot be performed.\")"
      ],
      "metadata": {
        "colab": {
          "base_uri": "https://localhost:8080/"
        },
        "id": "suvPWEgrrrxw",
        "outputId": "e1f939c0-0d46-450b-fcec-502bb0b30302"
      },
      "execution_count": null,
      "outputs": [
        {
          "output_type": "stream",
          "name": "stdout",
          "text": [
            "Enter the no. of rows of First Matrix :2\n",
            "Enter the no. of columns of First Matrix :2\n",
            "Enter the no. of rows of Second Matrix :2\n",
            "Enter the no. of columns of Second Matrix :2\n",
            "Enter the elements of First Matrix :\n",
            "1\n",
            "2\n",
            "3\n",
            "4\n",
            "Enter the elements of Second Matrix :\n",
            "1\n",
            "2\n",
            "3\n",
            "4\n",
            "The multiplication of two matrices is :\n",
            "[7, 10]\n",
            "[15, 22]\n"
          ]
        }
      ]
    },
    {
      "cell_type": "markdown",
      "source": [
        "***A program to find transpose of a matrices.***"
      ],
      "metadata": {
        "id": "7x5U2qMfe-UX"
      }
    },
    {
      "cell_type": "code",
      "source": [
        "r1 = int(input(\"Enter the no. of rows of Matrix :\"))\n",
        "c1 = int(input(\"Enter the no. of columns of Matrix :\"))\n",
        "\n",
        "if r1 == c1:\n",
        "  print(\"Enter the elements of First Matrix :\")\n",
        "  mat1 = [[int(input()) for x in range (c1)] for y in range(r1)]\n",
        "\n",
        "  res = []\n",
        "  print(\"The tranpose of two matrices is :\")\n",
        "  for i in range(r2):\n",
        "    list = []\n",
        "    for j in range(c2):\n",
        "      list.append(mat1[j][i])\n",
        "    print(list)\n",
        "    res.append(list)\n",
        "\n",
        "else:\n",
        "  print(\"The tranpose cannot be performed.\")"
      ],
      "metadata": {
        "colab": {
          "base_uri": "https://localhost:8080/"
        },
        "id": "0MbpKZist9Iz",
        "outputId": "2e10bd92-4a83-4800-af71-dffe7a3a5572"
      },
      "execution_count": null,
      "outputs": [
        {
          "output_type": "stream",
          "name": "stdout",
          "text": [
            "Enter the no. of rows of Matrix :2\n",
            "Enter the no. of columns of Matrix :2\n",
            "Enter the elements of First Matrix :\n",
            "1\n",
            "4\n",
            "7\n",
            "5\n",
            "The tranpose of two matrices is :\n",
            "[1, 7]\n",
            "[4, 5]\n"
          ]
        }
      ]
    },
    {
      "cell_type": "markdown",
      "source": [
        "***A program to find average of a numeric list.***"
      ],
      "metadata": {
        "id": "qVz-2Qp-fLSc"
      }
    },
    {
      "cell_type": "code",
      "source": [
        "num = int(input(\"Enter the number of terms : \"))\n",
        "list = []\n",
        "print(\"Enter the terms : \")\n",
        "for i in range(num):\n",
        "  list.append(int(input()))\n",
        "avg = 0\n",
        "for i in range(num):\n",
        "  avg += list[i]\n",
        "avg /= num\n",
        "print(\"The average of terms of list =\", avg)"
      ],
      "metadata": {
        "colab": {
          "base_uri": "https://localhost:8080/"
        },
        "id": "uJfMW4wXz518",
        "outputId": "227b2f2a-e2ab-4bf3-ff25-d231c2e7a270"
      },
      "execution_count": null,
      "outputs": [
        {
          "output_type": "stream",
          "name": "stdout",
          "text": [
            "Enter the number of terms : 4\n",
            "Enter the terms : \n",
            "10\n",
            "15\n",
            "41\n",
            "10\n",
            "The average of terms of list = 19.0\n"
          ]
        }
      ]
    },
    {
      "cell_type": "markdown",
      "source": [
        "***A program to access members of list using different variations of slice operations.***"
      ],
      "metadata": {
        "id": "fUkpDI9YgAfO"
      }
    },
    {
      "cell_type": "code",
      "source": [
        "lst = [x*x for x in range(1,6)]\n",
        "print(\"Display whole list :\", lst[::])\n",
        "print(\"Display whole list in stps of 2 :\", lst[::2])\n",
        "print(\"Display list in reverse order :\", lst[::-1])\n",
        "print(\"Display list from 1 to 5 index :\", lst[1:5:])\n",
        "print(\"Display list from 1 index :\", lst[1:])\n",
        "print(\"Display list upto 5 index :\", lst[:5])"
      ],
      "metadata": {
        "colab": {
          "base_uri": "https://localhost:8080/"
        },
        "id": "Ibk5QisU1Bac",
        "outputId": "3062c28f-f312-4aa3-eee5-e15a8dc8027d"
      },
      "execution_count": null,
      "outputs": [
        {
          "output_type": "stream",
          "name": "stdout",
          "text": [
            "Display whole list : [1, 4, 9, 16, 25]\n",
            "Display whole list in stps of 2 : [1, 9, 25]\n",
            "Display list in reverse order : [25, 16, 9, 4, 1]\n",
            "Display list from 1 to 5 index : [4, 9, 16, 25]\n",
            "Display list from 1 index : [4, 9, 16, 25]\n",
            "Display list upto 5 index : [1, 4, 9, 16, 25]\n"
          ]
        }
      ]
    },
    {
      "cell_type": "markdown",
      "source": [
        "***A program to concatenate two lists.***"
      ],
      "metadata": {
        "id": "ByVcnN9SgkDJ"
      }
    },
    {
      "cell_type": "code",
      "source": [
        "lst1 = [x*x for x in range(1,6)]\n",
        "lst2 = [x for x in range(1,6)]\n",
        "con_lst = lst1 + lst2\n",
        "print(\"Concatinated list :\", con_lst)\n",
        "lst1.extend(lst2)\n",
        "print(\"Concatinated list using extend function :\", lst1)"
      ],
      "metadata": {
        "colab": {
          "base_uri": "https://localhost:8080/"
        },
        "id": "_bo-Odwu5HLu",
        "outputId": "a646489d-c7c5-4fad-ed23-f30491c5d121"
      },
      "execution_count": null,
      "outputs": [
        {
          "output_type": "stream",
          "name": "stdout",
          "text": [
            "Concatinated list : [1, 4, 9, 16, 25, 1, 2, 3, 4, 5]\n",
            "Concatinated list using extend function : [1, 4, 9, 16, 25, 1, 2, 3, 4, 5]\n"
          ]
        }
      ]
    },
    {
      "cell_type": "markdown",
      "source": [
        "***A program to find index of a specific element and print number of occurence.***"
      ],
      "metadata": {
        "id": "USyh_zXggtTK"
      }
    },
    {
      "cell_type": "code",
      "source": [
        "lst = [x*x for x in range(1,10)]\n",
        "n = len(lst)\n",
        "find = int(input(\"Enter the number to find :\"))\n",
        "count = 0\n",
        "indices = []\n",
        "for i in range(n):\n",
        "  if find == lst[i]:\n",
        "    indices.append(i)\n",
        "    count += 1\n",
        "\n",
        "if count != 0:\n",
        "  print(\"The number is found at\",count,\"positions in :\", indices, \"places\")\n",
        "else:\n",
        "  print(\"The number is not found\")\n"
      ],
      "metadata": {
        "id": "YE0Plc639Bhz",
        "colab": {
          "base_uri": "https://localhost:8080/"
        },
        "outputId": "97d20ef3-9206-4840-bb00-7ff2476a3b65"
      },
      "execution_count": null,
      "outputs": [
        {
          "output_type": "stream",
          "name": "stdout",
          "text": [
            "Enter the number to find :4\n",
            "The number is found at 1 positions in : [1] places\n"
          ]
        }
      ]
    },
    {
      "cell_type": "markdown",
      "source": [
        "***A program to find identify duplicate in a list.***"
      ],
      "metadata": {
        "id": "BGK6KOt3hU4D"
      }
    },
    {
      "cell_type": "code",
      "source": [
        "lst1 = [x*x for x in range(1,6)]\n",
        "lst2 = [x for x in range(1,6)]\n",
        "con_lst = lst1 + lst2\n",
        "unique = []\n",
        "duplicate = []\n",
        "  \n",
        "for i in con_lst:\n",
        "    if i not in unique:\n",
        "        unique.append(i)\n",
        "    else:\n",
        "        duplicate.append(i)\n",
        "  \n",
        "print(\"Duplicate list :\",duplicate)"
      ],
      "metadata": {
        "colab": {
          "base_uri": "https://localhost:8080/"
        },
        "id": "QVGOGZNGiCOa",
        "outputId": "666ae6d8-d52d-4680-8da6-e35e5ef35fb4"
      },
      "execution_count": null,
      "outputs": [
        {
          "output_type": "stream",
          "name": "stdout",
          "text": [
            "Duplicate list : [1, 4]\n"
          ]
        }
      ]
    },
    {
      "cell_type": "markdown",
      "source": [
        "***A program to iterate over dictionary usinf for loop and built in functions.***"
      ],
      "metadata": {
        "id": "2Zz4Bujzhid_"
      }
    },
    {
      "cell_type": "code",
      "source": [
        "dictin = {\"name\":\"smith\", \"age\":20, \"country\":\"India\", \"height\":5.8}\n",
        "print(\"Using builtin functions :\")\n",
        "print(\"Dictionary :\", dictin)\n",
        "print(\"Keys :\", dictin.keys())\n",
        "print(\"Values :\", dictin.values())\n",
        "print(\"items :\", dictin.items())\n",
        "\n",
        "print(\"Using for loop :\")\n",
        "for i in dictin:\n",
        "  print(i, \":\", dictin[i])\n",
        "\n",
        "print(\"Using for loop and items() :\")\n",
        "for k, v in dictin.items():\n",
        "  print(k, \":\", v)"
      ],
      "metadata": {
        "colab": {
          "base_uri": "https://localhost:8080/"
        },
        "id": "JJF1juNFkJBe",
        "outputId": "8feca32c-0795-43db-f291-a60ae92b6378"
      },
      "execution_count": null,
      "outputs": [
        {
          "output_type": "stream",
          "name": "stdout",
          "text": [
            "Using builtin functions :\n",
            "Dictionary : {'name': 'smith', 'age': 20, 'country': 'India', 'height': 5.8}\n",
            "Keys : dict_keys(['name', 'age', 'country', 'height'])\n",
            "Values : dict_values(['smith', 20, 'India', 5.8])\n",
            "items : dict_items([('name', 'smith'), ('age', 20), ('country', 'India'), ('height', 5.8)])\n",
            "Using for loop :\n",
            "name : smith\n",
            "age : 20\n",
            "country : India\n",
            "height : 5.8\n",
            "Using for loop and items() :\n",
            "name : smith\n",
            "age : 20\n",
            "country : India\n",
            "height : 5.8\n"
          ]
        }
      ]
    },
    {
      "cell_type": "markdown",
      "source": [
        "***A program to illustrate nested dictionary***."
      ],
      "metadata": {
        "id": "nuNm01oUi-Li"
      }
    },
    {
      "cell_type": "code",
      "source": [
        "dictin = {\"name\":\"smith\", \n",
        "          \"age\":20, \n",
        "          \"country\":\"India\", \n",
        "          \"height\":5.8, \n",
        "          \"address\":{\"colony\":\"VIP estates\", \"pincode\":452002, \"city\":\"Indore\"}\n",
        "          }\n",
        "print(\"Nested Dictionary example :\", dictin)\n",
        "print(\"name :\", dictin[\"name\"])\n",
        "print(\"address :\", dictin[\"address\"])\n",
        "print(\"address(colony) :\", dictin[\"address\"][\"colony\"])\n"
      ],
      "metadata": {
        "colab": {
          "base_uri": "https://localhost:8080/"
        },
        "id": "DboMqcYSrccX",
        "outputId": "586a4828-92b0-4f0d-91d1-770b40987b91"
      },
      "execution_count": null,
      "outputs": [
        {
          "output_type": "stream",
          "name": "stdout",
          "text": [
            "Nested Dictionary example : {'name': 'smith', 'age': 20, 'country': 'India', 'height': 5.8, 'address': {'colony': 'VIP estates', 'pincode': 452002, 'city': 'Indore'}}\n",
            "name : smith\n",
            "address : {'colony': 'VIP estates', 'pincode': 452002, 'city': 'Indore'}\n",
            "address(colony) : VIP estates\n"
          ]
        }
      ]
    },
    {
      "cell_type": "markdown",
      "source": [
        "***A program to sort the dictionary according to keys.***"
      ],
      "metadata": {
        "id": "lXVnaV7HlJWS"
      }
    },
    {
      "cell_type": "code",
      "source": [
        "myDict = {'ravi': 10, 'rajnish': 9,'sanjeev': 15, 'yash': 2, 'suraj': 32}\n",
        "myKeys = list(myDict.keys())\n",
        "myKeys.sort()\n",
        "sorted_dict = {i: myDict[i] for i in myKeys}\n",
        "print(sorted_dict)"
      ],
      "metadata": {
        "colab": {
          "base_uri": "https://localhost:8080/"
        },
        "id": "8obdI48Kv4OE",
        "outputId": "90f5853b-458e-4f79-fa67-3a29666bf29d"
      },
      "execution_count": null,
      "outputs": [
        {
          "output_type": "stream",
          "name": "stdout",
          "text": [
            "{'rajnish': 9, 'ravi': 10, 'sanjeev': 15, 'suraj': 32, 'yash': 2}\n"
          ]
        }
      ]
    },
    {
      "cell_type": "markdown",
      "source": [
        "***A program to sort the dictionary according to values.***"
      ],
      "metadata": {
        "id": "vTrI4RX4laBy"
      }
    },
    {
      "cell_type": "code",
      "source": [
        "footballers_goals = {'Eusebio': 120, 'Cruyff': 104, 'Pele': 150, 'Ronaldo': 132, 'Messi': 125}\n",
        "\n",
        "sorted_footballers_by_goals = sorted(footballers_goals.items(), key=lambda x:x[1])\n",
        "print(dict(sorted_footballers_by_goals))"
      ],
      "metadata": {
        "colab": {
          "base_uri": "https://localhost:8080/"
        },
        "id": "SFDN7ZZ20PY4",
        "outputId": "d0ec5713-7ede-4223-aec2-d604976e34a1"
      },
      "execution_count": null,
      "outputs": [
        {
          "output_type": "stream",
          "name": "stdout",
          "text": [
            "{'Cruyff': 104, 'Eusebio': 120, 'Messi': 125, 'Ronaldo': 132, 'Pele': 150}\n"
          ]
        }
      ]
    },
    {
      "cell_type": "markdown",
      "source": [
        "***A program to illustrate set operations.***"
      ],
      "metadata": {
        "id": "AXU0jLKP2EDR"
      }
    },
    {
      "cell_type": "code",
      "source": [
        "set1 = {'a','e','i','o','u'}\n",
        "set2 = {'a','b','c','d','e',True, 43}\n",
        "\n",
        "print('Union using |:', set1 | set2)\n",
        "print('Union using union():', set1.union(set2)) \n",
        "\n",
        "print('Intersection using &:', set1 & set2)\n",
        "print('Intersection using intersection():', set1.intersection(set2)) \n",
        "\n",
        "print('Difference using &:', set1 - set2)\n",
        "print('Difference using difference():', set1.difference(set2)) \n",
        "\n",
        "print('Symmetric Difference using ^:', set1 ^ set2)\n",
        "print('Symmetric Difference using symmetric_difference():', set1.symmetric_difference(set2)) "
      ],
      "metadata": {
        "colab": {
          "base_uri": "https://localhost:8080/"
        },
        "id": "92xwDdMzIW2t",
        "outputId": "0ab3289f-5e09-4291-f7a3-b7048b67461b"
      },
      "execution_count": null,
      "outputs": [
        {
          "output_type": "stream",
          "name": "stdout",
          "text": [
            "Union using |: {'e', 'i', True, 'b', 'd', 'o', 43, 'u', 'a', 'c'}\n",
            "Union using union(): {'e', 'i', True, 'b', 'd', 'o', 43, 'u', 'a', 'c'}\n",
            "Intersection using &: {'e', 'a'}\n",
            "Intersection using intersection(): {'e', 'a'}\n",
            "Difference using &: {'i', 'o', 'u'}\n",
            "Difference using difference(): {'i', 'o', 'u'}\n",
            "Symmetric Difference using ^: {True, 'u', 'c', 'i', 'b', 'd', 'o', 43}\n",
            "Symmetric Difference using symmetric_difference(): {True, 'u', 'c', 'i', 'b', 'd', 'o', 43}\n"
          ]
        }
      ]
    },
    {
      "cell_type": "markdown",
      "source": [
        "***A program to check whether a string is a palindrome or not.***"
      ],
      "metadata": {
        "id": "bHnV9UaI2X2b"
      }
    },
    {
      "cell_type": "code",
      "source": [
        "str = input(\"Enter the string to check : \")\n",
        "n = len(str)\n",
        "flag = 0\n",
        "\n",
        "for i in range(n//2):\n",
        "  if str[i] != str[n-1-i]:\n",
        "    flag = 1\n",
        "    break\n",
        "\n",
        "if flag == 1:\n",
        "  print(\"String is not palindrome.\")\n",
        "else:\n",
        "  print(\"String is palindrome.\")"
      ],
      "metadata": {
        "colab": {
          "base_uri": "https://localhost:8080/"
        },
        "id": "qLNRg_k9Lxsp",
        "outputId": "2c43856d-8061-4ad5-92ec-22c4219f6766"
      },
      "execution_count": null,
      "outputs": [
        {
          "output_type": "stream",
          "name": "stdout",
          "text": [
            "Enter the string to check : asdfdsw\n",
            "String is not palindrome.\n"
          ]
        }
      ]
    },
    {
      "cell_type": "markdown",
      "source": [
        "***A program to remove puntuatuion marks from a string.***"
      ],
      "metadata": {
        "id": "eY_Q0ffL2l95"
      }
    },
    {
      "cell_type": "code",
      "source": [
        "str = input(\"Enter the string : \")\n",
        "ans = \"\"\n",
        "\n",
        "for i in str:\n",
        "  if (i>='a' and i<='z') or (i>='A' and i<='Z') or i==' ':\n",
        "    ans += i\n",
        "\n",
        "print(\"Puntuation removed string is \", ans)"
      ],
      "metadata": {
        "colab": {
          "base_uri": "https://localhost:8080/"
        },
        "id": "Wz7hLc1JP7Mf",
        "outputId": "0222b1af-b41e-4839-9e4b-115980474954"
      },
      "execution_count": null,
      "outputs": [
        {
          "output_type": "stream",
          "name": "stdout",
          "text": [
            "Enter the string to check : as$5r^*gfhn>  ag$df\n",
            "Puntuation removed string is  asrgfhn  agdf\n"
          ]
        }
      ]
    },
    {
      "cell_type": "markdown",
      "source": [
        "***A program to sort all words of string alphabetically.***"
      ],
      "metadata": {
        "id": "dUjjngHu2vxM"
      }
    },
    {
      "cell_type": "code",
      "source": [
        "str = input(\"Enter the string : \")\n",
        "words = str.split()\n",
        "words.sort()\n",
        "print(\"The sorted string is :\")\n",
        "print(\" \".join(words))"
      ],
      "metadata": {
        "colab": {
          "base_uri": "https://localhost:8080/"
        },
        "id": "gmZorXN1TbKu",
        "outputId": "fe0a60ea-0012-4be3-937d-1dc97847e053"
      },
      "execution_count": 1,
      "outputs": [
        {
          "output_type": "stream",
          "name": "stdout",
          "text": [
            "Enter the string : as a good day\n",
            "The sorted string is :\n",
            "a as day good\n"
          ]
        }
      ]
    },
    {
      "cell_type": "markdown",
      "source": [
        "***A program to count the number of vowels in a string.***"
      ],
      "metadata": {
        "id": "14tUSOQo3LiO"
      }
    },
    {
      "cell_type": "code",
      "source": [
        "str = input(\"Enter the string : \")\n",
        "count = 0\n",
        "vowels = ('a','e','i','o','u','A','E','I','O','U')\n",
        "\n",
        "for i in str:\n",
        "  if i in vowels:\n",
        "    count += 1\n",
        "\n",
        "print(\"Vowels appeared in the string\", count, \"times.\")"
      ],
      "metadata": {
        "colab": {
          "base_uri": "https://localhost:8080/"
        },
        "id": "McUIp_aAR85D",
        "outputId": "33e8f11a-6afd-455d-d567-3a0cdda573e0"
      },
      "execution_count": null,
      "outputs": [
        {
          "output_type": "stream",
          "name": "stdout",
          "text": [
            "Enter the string to check : Aditya\n",
            "Vowels appeared in the string 3 times.\n"
          ]
        }
      ]
    },
    {
      "cell_type": "markdown",
      "source": [
        "***A program to check two strings are anagram or not.***"
      ],
      "metadata": {
        "id": "oFkXxguc3TaX"
      }
    },
    {
      "cell_type": "code",
      "source": [
        "str1 = input(\"Enter the first string : \")\n",
        "str2 = input(\"Enter the second string : \")\n",
        "if sorted(str1) == sorted(str2):\n",
        "  print(\"The strings are Anagrams\")\n",
        "else:\n",
        "  print(\"The strings are Anagrams\")"
      ],
      "metadata": {
        "colab": {
          "base_uri": "https://localhost:8080/"
        },
        "id": "WDVSNb2bcRR0",
        "outputId": "8ebaae31-0c2d-468a-b5d1-ed772aeda4ac"
      },
      "execution_count": null,
      "outputs": [
        {
          "output_type": "stream",
          "name": "stdout",
          "text": [
            "Enter the first string : Aditya\n",
            "Enter the second string : ditaya\n",
            "The strings are Anagrams\n"
          ]
        }
      ]
    },
    {
      "cell_type": "markdown",
      "source": [
        "***A program to count occurence of each word in a string.***"
      ],
      "metadata": {
        "id": "U1bbGzqH3dtd"
      }
    },
    {
      "cell_type": "code",
      "source": [
        "str = input(\"Enter the string : \")\n",
        "words = str.split()\n",
        "count = 0\n",
        "ans = dict()\n",
        "for i in words:\n",
        "  if i in ans:\n",
        "    ans[i] += 1\n",
        "  else:\n",
        "    ans[i] = 1\n",
        "\n",
        "print(\"The number of each word occurence is :\" ,ans)"
      ],
      "metadata": {
        "colab": {
          "base_uri": "https://localhost:8080/"
        },
        "id": "pfKmzd5rVmc-",
        "outputId": "91660655-f174-40f8-9b60-fc46a4230889"
      },
      "execution_count": null,
      "outputs": [
        {
          "output_type": "stream",
          "name": "stdout",
          "text": [
            "Enter the string : the quick brown fox jumps over the lazy dog.\n",
            "The number of each word occurence is : {'the': 2, 'quick': 1, 'brown': 1, 'fox': 1, 'jumps': 1, 'over': 1, 'lazy': 1, 'dog.': 1}\n"
          ]
        }
      ]
    },
    {
      "cell_type": "markdown",
      "source": [
        "***A program to reverse the words of a string.***"
      ],
      "metadata": {
        "id": "tsXMc1Lq3oc8"
      }
    },
    {
      "cell_type": "code",
      "source": [
        "str = input(\"Enter the string : \")\n",
        "words = str.split()\n",
        "words.reverse()\n",
        "print(\" \".join(words))"
      ],
      "metadata": {
        "colab": {
          "base_uri": "https://localhost:8080/"
        },
        "id": "tnIjlR8jXIij",
        "outputId": "a52abcc5-9797-4f88-9b5e-8b95db7ad19e"
      },
      "execution_count": null,
      "outputs": [
        {
          "output_type": "stream",
          "name": "stdout",
          "text": [
            "Enter the string : I am a student\n",
            "student a am I\n"
          ]
        }
      ]
    }
  ]
}